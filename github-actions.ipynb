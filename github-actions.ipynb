{
 "cells": [
  {
   "cell_type": "markdown",
   "id": "cdbfb7e9-40db-45d2-a8f0-f63bc82f3359",
   "metadata": {},
   "source": [
    "## GitHub Actions"
   ]
  },
  {
   "cell_type": "markdown",
   "id": "3572f622-5e1a-4bb3-8e04-d546e8d04405",
   "metadata": {},
   "source": [
    "- A platform to automate developer workflows\n",
    "- CI/CD is one of many workflows\n",
    "- There are many Workflow templates available"
   ]
  },
  {
   "cell_type": "markdown",
   "id": "d958fe2a-edef-4c79-a481-2d5958eca182",
   "metadata": {},
   "source": []
  },
  {
   "cell_type": "markdown",
   "id": "b86aa54e-0e9a-4f7b-a61c-faa0d5be9552",
   "metadata": {
    "tags": []
   },
   "source": [
    "### How are Workflows automated?"
   ]
  },
  {
   "cell_type": "markdown",
   "id": "55991529-3176-4022-bcd4-cf66e5ba1080",
   "metadata": {},
   "source": [
    "#### GitHub Events"
   ]
  },
  {
   "cell_type": "markdown",
   "id": "360bc21f-7ff3-493c-8b74-3277b4d74521",
   "metadata": {},
   "source": [
    "- When something happens IN or TO your repository"
   ]
  },
  {
   "cell_type": "markdown",
   "id": "12f5fd54-fa70-4a80-a613-c8a36b15310b",
   "metadata": {},
   "source": []
  },
  {
   "cell_type": "markdown",
   "id": "2101286c-ed8b-4e12-b344-81d0d04d50d7",
   "metadata": {},
   "source": [
    "#### GitHub Actions"
   ]
  },
  {
   "cell_type": "markdown",
   "id": "11f3c09f-56df-4db7-9303-ef24b92b4268",
   "metadata": {},
   "source": [
    "- Automatic actions that are executed in response to a GitHub Event"
   ]
  },
  {
   "cell_type": "markdown",
   "id": "8b037fb2-5790-4b75-a693-3057815b0b1a",
   "metadata": {},
   "source": []
  },
  {
   "cell_type": "markdown",
   "id": "9c6b6d56-16da-4e3c-97cf-67c8fa2f35f5",
   "metadata": {},
   "source": [
    "- Listen to an event -> Trigger an action\n",
    "- Chain of actions make up a Workflow\n",
    "- An example of one of the most common workflows:\n",
    "    - Eevent: Commit Code\n",
    "    - Actions / Workflow:\n",
    "        - Test\n",
    "        - Build\n",
    "        - Push\n",
    "        - Deploy"
   ]
  },
  {
   "cell_type": "markdown",
   "id": "813fa836-c0fe-4e29-92dd-e3048b5dcbe5",
   "metadata": {},
   "source": []
  },
  {
   "cell_type": "markdown",
   "id": "ddb9798e-448e-4434-ac2f-25eb245bf308",
   "metadata": {},
   "source": [
    "#### CI/CD with GitHub Actions"
   ]
  },
  {
   "cell_type": "markdown",
   "id": "6da38cea-6c81-4cd3-b5f0-cd26bac71876",
   "metadata": {},
   "source": [
    "- Use same tool instead of third-party integration\n",
    "- Setting up the pipeline is easy\n",
    "- Developer friendly, we don't need a DevOps person"
   ]
  },
  {
   "cell_type": "markdown",
   "id": "f376d818-da3e-4372-b12d-19f72dc7283d",
   "metadata": {},
   "source": []
  },
  {
   "cell_type": "markdown",
   "id": "833a59aa-bfaf-4950-b354-a6edfc3514dc",
   "metadata": {},
   "source": []
  },
  {
   "cell_type": "markdown",
   "id": "d0bab958-76f0-47f4-b51c-0d6582fd18a4",
   "metadata": {},
   "source": []
  },
  {
   "cell_type": "markdown",
   "id": "a7d0196f-ef4d-4970-86d2-2981e4245f56",
   "metadata": {},
   "source": []
  },
  {
   "cell_type": "markdown",
   "id": "6efe4009-cfb8-42dc-aeac-a9971625f772",
   "metadata": {},
   "source": []
  },
  {
   "cell_type": "markdown",
   "id": "b74d776d-eef6-413c-bced-68c86b2ae189",
   "metadata": {},
   "source": []
  },
  {
   "cell_type": "markdown",
   "id": "7abebe78-9577-4eea-8d47-20ff7ae3e00c",
   "metadata": {},
   "source": []
  },
  {
   "cell_type": "markdown",
   "id": "adbe8d89-327e-46d3-9840-f3973933344d",
   "metadata": {},
   "source": []
  },
  {
   "cell_type": "markdown",
   "id": "e37a2f7c-6222-49df-bb2d-311c4bec061e",
   "metadata": {},
   "source": []
  },
  {
   "cell_type": "markdown",
   "id": "656bb6d5-4c72-4446-82a8-1338d9e6ea85",
   "metadata": {},
   "source": []
  },
  {
   "cell_type": "markdown",
   "id": "4225acce-c5e0-4928-bf23-c03b1fc69dcf",
   "metadata": {},
   "source": []
  },
  {
   "cell_type": "markdown",
   "id": "dfa9b10a-a0cf-46ee-b317-59a7dfdbe5de",
   "metadata": {},
   "source": []
  },
  {
   "cell_type": "markdown",
   "id": "91f2a34f-ecd3-4cdc-a9e1-951aae04794b",
   "metadata": {},
   "source": []
  },
  {
   "cell_type": "markdown",
   "id": "eef8926d-9eb3-4041-a955-a9014375cf53",
   "metadata": {},
   "source": []
  },
  {
   "cell_type": "markdown",
   "id": "550a7920-7744-4e88-9312-d9fd122bf9da",
   "metadata": {},
   "source": []
  },
  {
   "cell_type": "markdown",
   "id": "923e91e9-88e6-480d-8d51-bdd67dc88542",
   "metadata": {},
   "source": []
  },
  {
   "cell_type": "markdown",
   "id": "efe84e24-51d1-4c1d-b859-2c56de47c5c6",
   "metadata": {},
   "source": []
  },
  {
   "cell_type": "markdown",
   "id": "b7bbf5dc-e088-40ef-b2f1-77cf2f2fe547",
   "metadata": {},
   "source": []
  },
  {
   "cell_type": "markdown",
   "id": "cea0efaf-b354-4b43-b81a-8a006fc58d61",
   "metadata": {},
   "source": []
  },
  {
   "cell_type": "markdown",
   "id": "027c6575-3c63-4f48-8124-77764a98cb40",
   "metadata": {},
   "source": []
  },
  {
   "cell_type": "markdown",
   "id": "f7551508-9df9-4965-8965-5d182347ac51",
   "metadata": {},
   "source": []
  },
  {
   "cell_type": "markdown",
   "id": "0ef2bc97-873c-449f-88b0-eebd4f075df7",
   "metadata": {},
   "source": []
  },
  {
   "cell_type": "markdown",
   "id": "e35b5b3f-215e-40f1-9163-8fe7e2f45137",
   "metadata": {},
   "source": []
  },
  {
   "cell_type": "markdown",
   "id": "2b6e87e2-c8b9-4d0d-a7a6-50149c11b9db",
   "metadata": {},
   "source": []
  },
  {
   "cell_type": "markdown",
   "id": "6a0190fa-5862-4bc4-9053-b47ba16e50b7",
   "metadata": {},
   "source": []
  }
 ],
 "metadata": {
  "kernelspec": {
   "display_name": "Python 3 (ipykernel)",
   "language": "python",
   "name": "python3"
  },
  "language_info": {
   "codemirror_mode": {
    "name": "ipython",
    "version": 3
   },
   "file_extension": ".py",
   "mimetype": "text/x-python",
   "name": "python",
   "nbconvert_exporter": "python",
   "pygments_lexer": "ipython3",
   "version": "3.9.12"
  }
 },
 "nbformat": 4,
 "nbformat_minor": 5
}
