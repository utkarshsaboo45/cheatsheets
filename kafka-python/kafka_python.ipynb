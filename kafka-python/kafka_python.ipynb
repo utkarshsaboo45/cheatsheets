{
 "cells": [
  {
   "cell_type": "code",
   "execution_count": null,
   "id": "834db3a0-fff5-4166-b05c-00f078611116",
   "metadata": {},
   "outputs": [],
   "source": [
    "from kafka import KafkaProducer\n",
    "import json\n",
    "import time\n",
    "\n",
    "from data import get_registered_user\n",
    "\n",
    "TOPIC_NAME = \"registered_user\"\n",
    "\n",
    "def json_serializer(data):\n",
    "    return json.dumps(data).encode(\"utf-8\")\n",
    "\n",
    "producer = KafkaProducer(\n",
    "    bootstrap_servers=[\"206.87.193.76:9092\"],\n",
    "    value_serializer=json_serializer\n",
    ")\n",
    "\n",
    "if __name__ == \"__main__\":\n",
    "    while True:\n",
    "        registered_user = get_registered_user()\n",
    "        print(registered_user)\n",
    "        producer.send(TOPIC_NAME, registered_user)\n",
    "        time.sleep(2)"
   ]
  },
  {
   "cell_type": "code",
   "execution_count": null,
   "id": "411c45d8-c0c0-418e-9275-ef2b776e7279",
   "metadata": {},
   "outputs": [],
   "source": []
  },
  {
   "cell_type": "code",
   "execution_count": null,
   "id": "fa9538ef-d998-48cc-88f3-0b1d5e2c1a71",
   "metadata": {},
   "outputs": [],
   "source": [
    "from kafka import KafkaConsumer\n",
    "import json\n",
    "\n",
    "\n",
    "TOPIC_NAME = \"registered_user\"\n",
    "GROUP_ID = \"consumer-group-a\"\n",
    "\n",
    "\n",
    "if __name__ == \"__main__\":\n",
    "    consumer = KafkaConsumer(\n",
    "        TOPIC_NAME,\n",
    "        bootstrap_servers=[\"206.87.193.76:9092\"],\n",
    "        auto_offset_reset=\"earliest\",\n",
    "        group_id=GROUP_ID\n",
    "    )\n",
    "\n",
    "    print(\"Starting the Consumer\")\n",
    "\n",
    "    for msg in consumer:\n",
    "        print(f\"Registered User = {json.loads(msg.value)}\")"
   ]
  }
 ],
 "metadata": {
  "kernelspec": {
   "display_name": "Python [conda env:env_kafka]",
   "language": "python",
   "name": "conda-env-env_kafka-py"
  },
  "language_info": {
   "codemirror_mode": {
    "name": "ipython",
    "version": 3
   },
   "file_extension": ".py",
   "mimetype": "text/x-python",
   "name": "python",
   "nbconvert_exporter": "python",
   "pygments_lexer": "ipython3",
   "version": "3.10.4"
  }
 },
 "nbformat": 4,
 "nbformat_minor": 5
}
