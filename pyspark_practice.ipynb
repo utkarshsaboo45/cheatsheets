{
 "cells": [
  {
   "cell_type": "code",
   "execution_count": 1,
   "id": "93d8c562-4bbf-4fcf-b889-5af09656de9e",
   "metadata": {},
   "outputs": [],
   "source": [
    "import os\n",
    "import pandas as pd\n",
    "from pyspark.sql import SparkSession"
   ]
  },
  {
   "cell_type": "code",
   "execution_count": 2,
   "id": "616cfcf6-f1e6-4e5e-bad0-cb7d800733f5",
   "metadata": {},
   "outputs": [],
   "source": [
    "data_path = \"../data/rules/rules.csv\""
   ]
  },
  {
   "cell_type": "code",
   "execution_count": 3,
   "id": "a690bb8e-4e34-499f-9534-af007cbd1f52",
   "metadata": {},
   "outputs": [],
   "source": [
    "pd_df = pd.read_csv(data_path)"
   ]
  },
  {
   "cell_type": "markdown",
   "id": "732c4a69-1bfe-4c0f-83e7-0ec1de4f309f",
   "metadata": {
    "tags": []
   },
   "source": [
    "### Creating a Spark Session"
   ]
  },
  {
   "cell_type": "code",
   "execution_count": 4,
   "id": "67c1fb5b-9dff-4a54-9f5e-5a8d0a33e71f",
   "metadata": {},
   "outputs": [],
   "source": [
    "os.environ[\"JAVA_HOME\"] = \"C:\\\\Program Files\\\\Java\\\\jre1.8.0_341\"\n",
    "\n",
    "spark = SparkSession.builder.appName(\"Practice\").getOrCreate()"
   ]
  },
  {
   "cell_type": "code",
   "execution_count": null,
   "id": "4d3a8052-0fda-4081-a256-7a45495b7c9c",
   "metadata": {},
   "outputs": [],
   "source": []
  },
  {
   "cell_type": "markdown",
   "id": "4ebba382-c10c-47b1-aa7b-b1fbd429e130",
   "metadata": {
    "tags": []
   },
   "source": [
    "## Spark DataFrame"
   ]
  },
  {
   "cell_type": "markdown",
   "id": "c1815c63-40c7-4621-8279-a4b5a70f784a",
   "metadata": {
    "tags": []
   },
   "source": [
    "### Reading the dataset"
   ]
  },
  {
   "cell_type": "code",
   "execution_count": 5,
   "id": "ccd680cf-d63c-4e99-ad63-82785cebd3da",
   "metadata": {},
   "outputs": [],
   "source": [
    "sp_df = spark.read.csv(data_path, header=True, inferSchema=True)"
   ]
  },
  {
   "cell_type": "code",
   "execution_count": 6,
   "id": "e6008cbf-ac24-4d76-8225-6f3aa70b3901",
   "metadata": {},
   "outputs": [
    {
     "name": "stdout",
     "output_type": "stream",
     "text": [
      "root\n",
      " |-- RuleDefinitionId: integer (nullable = true)\n",
      " |-- LastModifiedDateTime: string (nullable = true)\n",
      " |-- FieldName: string (nullable = true)\n",
      " |-- ShortName: string (nullable = true)\n",
      " |-- ClientName: string (nullable = true)\n",
      " |-- FundName: string (nullable = true)\n",
      " |-- SubVectorId: integer (nullable = true)\n",
      " |-- Formula: string (nullable = true)\n",
      " |-- Severity: string (nullable = true)\n",
      " |-- ExecutionOrder: integer (nullable = true)\n",
      " |-- Dimension: string (nullable = true)\n",
      " |-- IsSLA: integer (nullable = true)\n",
      " |-- CutOffTime: timestamp (nullable = true)\n",
      " |-- ErrorMessage: string (nullable = true)\n",
      " |-- CronExpression: string (nullable = true)\n",
      " |-- CobDate: integer (nullable = true)\n",
      " |-- EmailIds: string (nullable = true)\n",
      " |-- CalculationFormula: string (nullable = true)\n",
      "\n"
     ]
    }
   ],
   "source": [
    "sp_df.printSchema()"
   ]
  },
  {
   "cell_type": "code",
   "execution_count": 7,
   "id": "66b52b66-92fc-44c5-acbc-2ca80fcc4c54",
   "metadata": {},
   "outputs": [
    {
     "name": "stdout",
     "output_type": "stream",
     "text": [
      "+-------+-----------------+--------------------+--------------------+------------+--------------------+---------+------------------+--------------------+--------+------------------+------------+-------------------+--------------------+-------------------+-------------------+--------------------+--------------------+\n",
      "|summary| RuleDefinitionId|LastModifiedDateTime|           FieldName|   ShortName|          ClientName| FundName|       SubVectorId|             Formula|Severity|    ExecutionOrder|   Dimension|              IsSLA|        ErrorMessage|     CronExpression|            CobDate|            EmailIds|  CalculationFormula|\n",
      "+-------+-----------------+--------------------+--------------------+------------+--------------------+---------+------------------+--------------------+--------+------------------+------------+-------------------+--------------------+-------------------+-------------------+--------------------+--------------------+\n",
      "|  count|              335|                 335|                 335|         335|                 335|      335|               335|                 275|     335|               282|         335|                335|                 333|                 79|                 17|                  20|                 130|\n",
      "|   mean|617.6059701492537|                null|                null|        null|                null|     null|18.038805970149255|                null|    null|1.2836879432624113|        null|0.22686567164179106|                null|               null|-0.9411764705882353|                null|                null|\n",
      "| stddev|221.4937853986847|                null|                null|        null|                null|     null|19.679657231508504|                null|    null|1.3956018415503808|        null| 0.4194314977479224|                null|               null|0.24253562503633297|                null|                null|\n",
      "|    min|               37|             00:03.6|Account Validatio...|15bps Breach|             ACADIAN|      0X0|                 0|\"\"\"BlackoutFlag\"\"...|   Error|                 0|Completeness|                  0|\"Broker equal to ...|  0 0 3 ? * MON-FRI|                 -1|fact.devel@globeo...| Math.abs(BegBook...|\n",
      "|    max|              934|             58:03.2|   _GtcLoadException|        Zero|UNIGESTIONSA_DELETED|UNIG_MATR|               108|if(Math.abs(Admin...|    Info|                 5| Materiality|                  1|  Zero Price Outlier|0 35 09 ? * MON-FRI|                  0|                null|                null|\n",
      "+-------+-----------------+--------------------+--------------------+------------+--------------------+---------+------------------+--------------------+--------+------------------+------------+-------------------+--------------------+-------------------+-------------------+--------------------+--------------------+\n",
      "\n"
     ]
    }
   ],
   "source": [
    "sp_df.describe().show()"
   ]
  },
  {
   "cell_type": "code",
   "execution_count": 8,
   "id": "96ea6c82-a256-4567-a8f9-50a1a8556c17",
   "metadata": {},
   "outputs": [
    {
     "name": "stdout",
     "output_type": "stream",
     "text": [
      "+----------------+--------------------+--------------------+--------------------+----------+--------+-----------+--------------------+--------+--------------+------------+-----+----------+--------------------+-------------------+-------+--------------------+------------------+\n",
      "|RuleDefinitionId|LastModifiedDateTime|           FieldName|           ShortName|ClientName|FundName|SubVectorId|             Formula|Severity|ExecutionOrder|   Dimension|IsSLA|CutOffTime|        ErrorMessage|     CronExpression|CobDate|            EmailIds|CalculationFormula|\n",
      "+----------------+--------------------+--------------------+--------------------+----------+--------+-----------+--------------------+--------+--------------+------------+-----+----------+--------------------+-------------------+-------+--------------------+------------------+\n",
      "|             707|             00:53.5|      FileCompletion|          EodPEDFile|   ACADIAN|     0X0|         11|/home/upload/eodp...|   Error|             0|Completeness|    1|      null|EodPEDFile File n...|0 15 09 ? * MON-FRI|     -1|fact.devel@globeo...|              null|\n",
      "|             484|             05:51.9|Valuation Exceptions|Stale Instruments...|   ACADIAN|     ALL|          8|Math.abs(StaleVal...|    Info|             1| Materiality|    0|      null|             Stale ?|               null|   null|                null|              null|\n",
      "+----------------+--------------------+--------------------+--------------------+----------+--------+-----------+--------------------+--------+--------------+------------+-----+----------+--------------------+-------------------+-------+--------------------+------------------+\n",
      "only showing top 2 rows\n",
      "\n"
     ]
    }
   ],
   "source": [
    "sp_df.show(2)"
   ]
  },
  {
   "cell_type": "code",
   "execution_count": 9,
   "id": "e17e2a25-7457-4567-8e26-1de761dcd939",
   "metadata": {},
   "outputs": [
    {
     "data": {
      "text/plain": [
       "335"
      ]
     },
     "execution_count": 9,
     "metadata": {},
     "output_type": "execute_result"
    }
   ],
   "source": [
    "sp_df.count()"
   ]
  },
  {
   "cell_type": "code",
   "execution_count": 10,
   "id": "69330671-b7d8-472d-b751-7e42528ed125",
   "metadata": {},
   "outputs": [
    {
     "data": {
      "text/plain": [
       "pyspark.sql.dataframe.DataFrame"
      ]
     },
     "execution_count": 10,
     "metadata": {},
     "output_type": "execute_result"
    }
   ],
   "source": [
    "type(sp_df)"
   ]
  },
  {
   "cell_type": "code",
   "execution_count": 11,
   "id": "b2e2c464-62b0-4047-a07d-c7c63d7a2578",
   "metadata": {},
   "outputs": [
    {
     "data": {
      "text/plain": [
       "[('RuleDefinitionId', 'int'),\n",
       " ('LastModifiedDateTime', 'string'),\n",
       " ('FieldName', 'string'),\n",
       " ('ShortName', 'string'),\n",
       " ('ClientName', 'string'),\n",
       " ('FundName', 'string'),\n",
       " ('SubVectorId', 'int'),\n",
       " ('Formula', 'string'),\n",
       " ('Severity', 'string'),\n",
       " ('ExecutionOrder', 'int'),\n",
       " ('Dimension', 'string'),\n",
       " ('IsSLA', 'int'),\n",
       " ('CutOffTime', 'timestamp'),\n",
       " ('ErrorMessage', 'string'),\n",
       " ('CronExpression', 'string'),\n",
       " ('CobDate', 'int'),\n",
       " ('EmailIds', 'string'),\n",
       " ('CalculationFormula', 'string')]"
      ]
     },
     "execution_count": 11,
     "metadata": {},
     "output_type": "execute_result"
    }
   ],
   "source": [
    "sp_df.dtypes"
   ]
  },
  {
   "cell_type": "code",
   "execution_count": 12,
   "id": "28b2fe85-d161-4433-bb4b-8d6172361ee7",
   "metadata": {},
   "outputs": [
    {
     "data": {
      "text/plain": [
       "['RuleDefinitionId',\n",
       " 'LastModifiedDateTime',\n",
       " 'FieldName',\n",
       " 'ShortName',\n",
       " 'ClientName',\n",
       " 'FundName',\n",
       " 'SubVectorId',\n",
       " 'Formula',\n",
       " 'Severity',\n",
       " 'ExecutionOrder',\n",
       " 'Dimension',\n",
       " 'IsSLA',\n",
       " 'CutOffTime',\n",
       " 'ErrorMessage',\n",
       " 'CronExpression',\n",
       " 'CobDate',\n",
       " 'EmailIds',\n",
       " 'CalculationFormula']"
      ]
     },
     "execution_count": 12,
     "metadata": {},
     "output_type": "execute_result"
    }
   ],
   "source": [
    "cols = sp_df.columns\n",
    "cols"
   ]
  },
  {
   "cell_type": "markdown",
   "id": "52313c25-d724-4c6d-806a-801556921aaf",
   "metadata": {
    "tags": []
   },
   "source": [
    "### Selecting columns"
   ]
  },
  {
   "cell_type": "code",
   "execution_count": 13,
   "id": "2c4ab4d1-e81b-45bc-99b0-38e58cf0abb7",
   "metadata": {},
   "outputs": [
    {
     "name": "stdout",
     "output_type": "stream",
     "text": [
      "+----------------+--------------------+\n",
      "|RuleDefinitionId|LastModifiedDateTime|\n",
      "+----------------+--------------------+\n",
      "|             707|             00:53.5|\n",
      "|             484|             05:51.9|\n",
      "|             487|             05:51.9|\n",
      "|             486|             05:51.9|\n",
      "|             485|             05:51.9|\n",
      "|             477|             41:53.0|\n",
      "|             475|             41:53.0|\n",
      "|             473|             41:53.0|\n",
      "|             471|             41:53.0|\n",
      "|             472|             41:53.0|\n",
      "|             474|             41:53.0|\n",
      "|             470|             41:53.0|\n",
      "|             469|             13:27.0|\n",
      "|             467|             41:53.0|\n",
      "|             476|             41:53.0|\n",
      "|             468|             41:53.0|\n",
      "|             466|             41:53.0|\n",
      "|             483|             43:12.3|\n",
      "|             706|             00:53.5|\n",
      "|             705|             00:53.5|\n",
      "+----------------+--------------------+\n",
      "only showing top 20 rows\n",
      "\n"
     ]
    }
   ],
   "source": [
    "sp_df.select(cols[:2]).show()"
   ]
  },
  {
   "cell_type": "code",
   "execution_count": 14,
   "id": "1206a543-ce06-496f-95b3-a23836d4c6bc",
   "metadata": {},
   "outputs": [
    {
     "name": "stdout",
     "output_type": "stream",
     "text": [
      "+----------------+--------------------+\n",
      "|RuleDefinitionId|LastModifiedDateTime|\n",
      "+----------------+--------------------+\n",
      "|             707|             00:53.5|\n",
      "|             484|             05:51.9|\n",
      "|             487|             05:51.9|\n",
      "|             486|             05:51.9|\n",
      "|             485|             05:51.9|\n",
      "|             477|             41:53.0|\n",
      "|             475|             41:53.0|\n",
      "|             473|             41:53.0|\n",
      "|             471|             41:53.0|\n",
      "|             472|             41:53.0|\n",
      "|             474|             41:53.0|\n",
      "|             470|             41:53.0|\n",
      "|             469|             13:27.0|\n",
      "|             467|             41:53.0|\n",
      "|             476|             41:53.0|\n",
      "|             468|             41:53.0|\n",
      "|             466|             41:53.0|\n",
      "|             483|             43:12.3|\n",
      "|             706|             00:53.5|\n",
      "|             705|             00:53.5|\n",
      "+----------------+--------------------+\n",
      "only showing top 20 rows\n",
      "\n"
     ]
    }
   ],
   "source": [
    "sp_df[cols[:2]].show()"
   ]
  },
  {
   "cell_type": "markdown",
   "id": "ba865d0d-6709-4f2f-a44f-ed5f339303bd",
   "metadata": {},
   "source": [
    "### Adding Columns"
   ]
  },
  {
   "cell_type": "code",
   "execution_count": null,
   "id": "ce9abec3-07cb-4e8f-a1eb-96b5b1243b1b",
   "metadata": {},
   "outputs": [],
   "source": []
  },
  {
   "cell_type": "code",
   "execution_count": 15,
   "id": "5aa3ca92-3ae5-4498-a81e-765cecf1c926",
   "metadata": {},
   "outputs": [],
   "source": [
    "sp_df = sp_df.withColumn(\"RuleDefinitionId+2\", sp_df[\"RuleDefinitionId\"] + 2)"
   ]
  },
  {
   "cell_type": "code",
   "execution_count": 16,
   "id": "efc619cb-52b3-4ab6-b870-abf974a918db",
   "metadata": {},
   "outputs": [
    {
     "name": "stdout",
     "output_type": "stream",
     "text": [
      "+----------------+------------------+\n",
      "|RuleDefinitionId|RuleDefinitionId+2|\n",
      "+----------------+------------------+\n",
      "|             707|               709|\n",
      "|             484|               486|\n",
      "|             487|               489|\n",
      "|             486|               488|\n",
      "|             485|               487|\n",
      "|             477|               479|\n",
      "|             475|               477|\n",
      "|             473|               475|\n",
      "|             471|               473|\n",
      "|             472|               474|\n",
      "|             474|               476|\n",
      "|             470|               472|\n",
      "|             469|               471|\n",
      "|             467|               469|\n",
      "|             476|               478|\n",
      "|             468|               470|\n",
      "|             466|               468|\n",
      "|             483|               485|\n",
      "|             706|               708|\n",
      "|             705|               707|\n",
      "+----------------+------------------+\n",
      "only showing top 20 rows\n",
      "\n"
     ]
    }
   ],
   "source": [
    "sp_df.select([\"RuleDefinitionId\", \"RuleDefinitionId+2\"]).show()"
   ]
  },
  {
   "cell_type": "code",
   "execution_count": null,
   "id": "0e7d3fbd-3ec7-4a74-aef4-b38cbf09c305",
   "metadata": {},
   "outputs": [],
   "source": []
  },
  {
   "cell_type": "markdown",
   "id": "c1b4bc3b-fb08-42f1-b83d-0b7d21c94e35",
   "metadata": {},
   "source": [
    "### Dropping columns"
   ]
  },
  {
   "cell_type": "code",
   "execution_count": 17,
   "id": "0fe9e8a5-250f-4cae-b25f-14c14099b91b",
   "metadata": {},
   "outputs": [],
   "source": [
    "sp_df = sp_df.drop(\"RuleDefinitionId+2\")"
   ]
  },
  {
   "cell_type": "code",
   "execution_count": 18,
   "id": "a711dddd-f4a2-4dd4-899f-1152a8ea469c",
   "metadata": {},
   "outputs": [
    {
     "data": {
      "text/plain": [
       "DataFrame[RuleDefinitionId: int, LastModifiedDateTime: string, FieldName: string, ShortName: string, ClientName: string, FundName: string, SubVectorId: int, Formula: string, Severity: string, ExecutionOrder: int, Dimension: string, IsSLA: int, CutOffTime: timestamp, ErrorMessage: string, CronExpression: string, CobDate: int, EmailIds: string, CalculationFormula: string]"
      ]
     },
     "execution_count": 18,
     "metadata": {},
     "output_type": "execute_result"
    }
   ],
   "source": [
    "sp_df"
   ]
  },
  {
   "cell_type": "code",
   "execution_count": null,
   "id": "5f89f760-4f03-41ff-a241-c23ebd3fa7e5",
   "metadata": {},
   "outputs": [],
   "source": []
  },
  {
   "cell_type": "markdown",
   "id": "74f7f4bf-c7d2-4442-98a5-d335a41ad301",
   "metadata": {},
   "source": [
    "### Dropping NA Values"
   ]
  },
  {
   "cell_type": "code",
   "execution_count": 19,
   "id": "8e9ad15d-6ffc-4945-bd01-fc39479e31fd",
   "metadata": {},
   "outputs": [
    {
     "name": "stdout",
     "output_type": "stream",
     "text": [
      "+----------------+--------------------+---------+---------+----------+--------+-----------+-------+--------+--------------+---------+-----+----------+------------+--------------+-------+--------+------------------+\n",
      "|RuleDefinitionId|LastModifiedDateTime|FieldName|ShortName|ClientName|FundName|SubVectorId|Formula|Severity|ExecutionOrder|Dimension|IsSLA|CutOffTime|ErrorMessage|CronExpression|CobDate|EmailIds|CalculationFormula|\n",
      "+----------------+--------------------+---------+---------+----------+--------+-----------+-------+--------+--------------+---------+-----+----------+------------+--------------+-------+--------+------------------+\n",
      "+----------------+--------------------+---------+---------+----------+--------+-----------+-------+--------+--------------+---------+-----+----------+------------+--------------+-------+--------+------------------+\n",
      "\n"
     ]
    }
   ],
   "source": [
    "sp_df.na.drop().show()"
   ]
  },
  {
   "cell_type": "code",
   "execution_count": 20,
   "id": "fc2d5288-949e-4191-a489-e203eb2d84e1",
   "metadata": {},
   "outputs": [
    {
     "name": "stdout",
     "output_type": "stream",
     "text": [
      "+----------------+--------------------+--------------------+--------------------+----------+--------+-----------+--------------------+--------+--------------+------------+-----+----------+--------------------+-------------------+-------+--------------------+------------------+\n",
      "|RuleDefinitionId|LastModifiedDateTime|           FieldName|           ShortName|ClientName|FundName|SubVectorId|             Formula|Severity|ExecutionOrder|   Dimension|IsSLA|CutOffTime|        ErrorMessage|     CronExpression|CobDate|            EmailIds|CalculationFormula|\n",
      "+----------------+--------------------+--------------------+--------------------+----------+--------+-----------+--------------------+--------+--------------+------------+-----+----------+--------------------+-------------------+-------+--------------------+------------------+\n",
      "|             707|             00:53.5|      FileCompletion|          EodPEDFile|   ACADIAN|     0X0|         11|/home/upload/eodp...|   Error|             0|Completeness|    1|      null|EodPEDFile File n...|0 15 09 ? * MON-FRI|     -1|fact.devel@globeo...|              null|\n",
      "|             484|             05:51.9|Valuation Exceptions|Stale Instruments...|   ACADIAN|     ALL|          8|Math.abs(StaleVal...|    Info|             1| Materiality|    0|      null|             Stale ?|               null|   null|                null|              null|\n",
      "+----------------+--------------------+--------------------+--------------------+----------+--------+-----------+--------------------+--------+--------------+------------+-----+----------+--------------------+-------------------+-------+--------------------+------------------+\n",
      "only showing top 2 rows\n",
      "\n"
     ]
    }
   ],
   "source": [
    "sp_df.na.drop(\n",
    "    how=\"all\"\n",
    ").show(2)"
   ]
  },
  {
   "cell_type": "code",
   "execution_count": 21,
   "id": "bc6be7d3-62c0-4c53-bf89-b96fd3cf51e5",
   "metadata": {},
   "outputs": [
    {
     "name": "stdout",
     "output_type": "stream",
     "text": [
      "+----------------+--------------------+---------+---------+----------+--------+-----------+-------+--------+--------------+---------+-----+----------+------------+--------------+-------+--------+------------------+\n",
      "|RuleDefinitionId|LastModifiedDateTime|FieldName|ShortName|ClientName|FundName|SubVectorId|Formula|Severity|ExecutionOrder|Dimension|IsSLA|CutOffTime|ErrorMessage|CronExpression|CobDate|EmailIds|CalculationFormula|\n",
      "+----------------+--------------------+---------+---------+----------+--------+-----------+-------+--------+--------------+---------+-----+----------+------------+--------------+-------+--------+------------------+\n",
      "+----------------+--------------------+---------+---------+----------+--------+-----------+-------+--------+--------------+---------+-----+----------+------------+--------------+-------+--------+------------------+\n",
      "\n"
     ]
    }
   ],
   "source": [
    "sp_df.na.drop(\n",
    "    how=\"any\"\n",
    ").show()"
   ]
  },
  {
   "cell_type": "code",
   "execution_count": 22,
   "id": "c11058ca-c316-454c-b835-5175688eda1c",
   "metadata": {},
   "outputs": [
    {
     "name": "stdout",
     "output_type": "stream",
     "text": [
      "+----------------+--------------------+--------------------+--------------------+----------+--------+-----------+--------------------+--------+--------------+------------+-----+----------+--------------------+-------------------+-------+--------------------+------------------+\n",
      "|RuleDefinitionId|LastModifiedDateTime|           FieldName|           ShortName|ClientName|FundName|SubVectorId|             Formula|Severity|ExecutionOrder|   Dimension|IsSLA|CutOffTime|        ErrorMessage|     CronExpression|CobDate|            EmailIds|CalculationFormula|\n",
      "+----------------+--------------------+--------------------+--------------------+----------+--------+-----------+--------------------+--------+--------------+------------+-----+----------+--------------------+-------------------+-------+--------------------+------------------+\n",
      "|             707|             00:53.5|      FileCompletion|          EodPEDFile|   ACADIAN|     0X0|         11|/home/upload/eodp...|   Error|             0|Completeness|    1|      null|EodPEDFile File n...|0 15 09 ? * MON-FRI|     -1|fact.devel@globeo...|              null|\n",
      "|             484|             05:51.9|Valuation Exceptions|Stale Instruments...|   ACADIAN|     ALL|          8|Math.abs(StaleVal...|    Info|             1| Materiality|    0|      null|             Stale ?|               null|   null|                null|              null|\n",
      "+----------------+--------------------+--------------------+--------------------+----------+--------+-----------+--------------------+--------+--------------+------------+-----+----------+--------------------+-------------------+-------+--------------------+------------------+\n",
      "only showing top 2 rows\n",
      "\n"
     ]
    }
   ],
   "source": [
    "sp_df.na.drop(\n",
    "    how=\"any\",\n",
    "    thresh=2  # At least two non-null values, else drop\n",
    ").show(2)"
   ]
  },
  {
   "cell_type": "code",
   "execution_count": 23,
   "id": "5fdb33d0-babc-4853-9480-499ec3233e31",
   "metadata": {},
   "outputs": [
    {
     "name": "stdout",
     "output_type": "stream",
     "text": [
      "+----------------+--------------------+--------------------+--------------------+----------+--------+-----------+--------------------+--------+--------------+------------+-----+----------+--------------------+-------------------+-------+--------------------+------------------+\n",
      "|RuleDefinitionId|LastModifiedDateTime|           FieldName|           ShortName|ClientName|FundName|SubVectorId|             Formula|Severity|ExecutionOrder|   Dimension|IsSLA|CutOffTime|        ErrorMessage|     CronExpression|CobDate|            EmailIds|CalculationFormula|\n",
      "+----------------+--------------------+--------------------+--------------------+----------+--------+-----------+--------------------+--------+--------------+------------+-----+----------+--------------------+-------------------+-------+--------------------+------------------+\n",
      "|             707|             00:53.5|      FileCompletion|          EodPEDFile|   ACADIAN|     0X0|         11|/home/upload/eodp...|   Error|             0|Completeness|    1|      null|EodPEDFile File n...|0 15 09 ? * MON-FRI|     -1|fact.devel@globeo...|              null|\n",
      "|             484|             05:51.9|Valuation Exceptions|Stale Instruments...|   ACADIAN|     ALL|          8|Math.abs(StaleVal...|    Info|             1| Materiality|    0|      null|             Stale ?|               null|   null|                null|              null|\n",
      "+----------------+--------------------+--------------------+--------------------+----------+--------+-----------+--------------------+--------+--------------+------------+-----+----------+--------------------+-------------------+-------+--------------------+------------------+\n",
      "only showing top 2 rows\n",
      "\n"
     ]
    }
   ],
   "source": [
    "sp_df.na.drop(\n",
    "    how=\"any\",\n",
    "    # thresh=2  # At least two non-null values, else drop,\n",
    "    subset=[\n",
    "        \"RuleDefinitionId\",\n",
    "        \"LastModifiedDateTime\",\n",
    "        \"FieldName\",\n",
    "        \"ShortName\"\n",
    "    ]  # If any of these values are null, drop the row\n",
    ").show(2)"
   ]
  },
  {
   "cell_type": "code",
   "execution_count": 24,
   "id": "8bfc187b-e10d-4cef-8d26-d610386d4f0f",
   "metadata": {},
   "outputs": [
    {
     "name": "stdout",
     "output_type": "stream",
     "text": [
      "+----------------+--------------------+--------------------+--------------------+----------+--------+-----------+--------------------+--------+--------------+------------+-----+----------+--------------------+-------------------+-------+--------------------+------------------+\n",
      "|RuleDefinitionId|LastModifiedDateTime|           FieldName|           ShortName|ClientName|FundName|SubVectorId|             Formula|Severity|ExecutionOrder|   Dimension|IsSLA|CutOffTime|        ErrorMessage|     CronExpression|CobDate|            EmailIds|CalculationFormula|\n",
      "+----------------+--------------------+--------------------+--------------------+----------+--------+-----------+--------------------+--------+--------------+------------+-----+----------+--------------------+-------------------+-------+--------------------+------------------+\n",
      "|             707|             00:53.5|      FileCompletion|          EodPEDFile|   ACADIAN|     0X0|         11|/home/upload/eodp...|   Error|             0|Completeness|    1|      null|EodPEDFile File n...|0 15 09 ? * MON-FRI|     -1|fact.devel@globeo...|    Missing Values|\n",
      "|             484|             05:51.9|Valuation Exceptions|Stale Instruments...|   ACADIAN|     ALL|          8|Math.abs(StaleVal...|    Info|             1| Materiality|    0|      null|             Stale ?|     Missing Values|   null|      Missing Values|    Missing Values|\n",
      "+----------------+--------------------+--------------------+--------------------+----------+--------+-----------+--------------------+--------+--------------+------------+-----+----------+--------------------+-------------------+-------+--------------------+------------------+\n",
      "only showing top 2 rows\n",
      "\n"
     ]
    }
   ],
   "source": [
    "sp_df.na.fill(\"Missing Values\").show(2)"
   ]
  },
  {
   "cell_type": "code",
   "execution_count": 25,
   "id": "27cad346-95ee-4766-b657-5299fbf35207",
   "metadata": {},
   "outputs": [
    {
     "name": "stdout",
     "output_type": "stream",
     "text": [
      "+----------------+--------------------+--------------------+--------------------+----------+--------+-----------+--------------------+--------+--------------+------------+-----+----------+--------------------+-------------------+-------+--------------------+------------------+\n",
      "|RuleDefinitionId|LastModifiedDateTime|           FieldName|           ShortName|ClientName|FundName|SubVectorId|             Formula|Severity|ExecutionOrder|   Dimension|IsSLA|CutOffTime|        ErrorMessage|     CronExpression|CobDate|            EmailIds|CalculationFormula|\n",
      "+----------------+--------------------+--------------------+--------------------+----------+--------+-----------+--------------------+--------+--------------+------------+-----+----------+--------------------+-------------------+-------+--------------------+------------------+\n",
      "|             707|             00:53.5|      FileCompletion|          EodPEDFile|   ACADIAN|     0X0|         11|/home/upload/eodp...|   Error|             0|Completeness|    1|      null|EodPEDFile File n...|0 15 09 ? * MON-FRI|     -1|fact.devel@globeo...|              null|\n",
      "|             484|             05:51.9|Valuation Exceptions|Stale Instruments...|   ACADIAN|     ALL|          8|Math.abs(StaleVal...|    Info|             1| Materiality|    0|      null|             Stale ?|               null|   null|                null|              null|\n",
      "+----------------+--------------------+--------------------+--------------------+----------+--------+-----------+--------------------+--------+--------------+------------+-----+----------+--------------------+-------------------+-------+--------------------+------------------+\n",
      "only showing top 2 rows\n",
      "\n"
     ]
    }
   ],
   "source": [
    "sp_df.na.fill(\"Missing Values\", [\n",
    "        \"RuleDefinitionId\",\n",
    "        \"LastModifiedDateTime\",\n",
    "        \"FieldName\",\n",
    "        \"ShortName\"\n",
    "    ]).show(2)"
   ]
  },
  {
   "cell_type": "code",
   "execution_count": null,
   "id": "d6a46b81-a4f5-42de-b1a6-bdf6567da96c",
   "metadata": {},
   "outputs": [],
   "source": []
  },
  {
   "cell_type": "markdown",
   "id": "fd14221f-eeab-4f8c-8267-f4da06f38f6a",
   "metadata": {},
   "source": [
    "### Imputing Null Values"
   ]
  },
  {
   "cell_type": "code",
   "execution_count": 26,
   "id": "b6a8532a-3302-4da9-a802-394f44dc4067",
   "metadata": {},
   "outputs": [
    {
     "name": "stderr",
     "output_type": "stream",
     "text": [
      "C:\\Users\\usaboo\\Anaconda3\\envs\\env_anomaly\\lib\\site-packages\\scipy\\__init__.py:146: UserWarning: A NumPy version >=1.16.5 and <1.23.0 is required for this version of SciPy (detected version 1.23.1\n",
      "  warnings.warn(f\"A NumPy version >={np_minversion} and <{np_maxversion}\"\n"
     ]
    }
   ],
   "source": [
    "from pyspark.ml.feature import Imputer"
   ]
  },
  {
   "cell_type": "code",
   "execution_count": 27,
   "id": "9d96cea5-68d6-4313-b867-db3ec4bc5625",
   "metadata": {},
   "outputs": [],
   "source": [
    "input_cols = [\n",
    "    \"RuleDefinitionId\",\n",
    "    \"SubVectorId\",\n",
    "    \"ExecutionOrder\",\n",
    "    \"CobDate\"\n",
    "]\n",
    "\n",
    "output_cols = [f\"{ip_col}_inputed\" for ip_col in input_cols]\n",
    "\n",
    "imputer = Imputer(\n",
    "    inputCols=input_cols,\n",
    "    outputCols=output_cols\n",
    ").setStrategy(\"mean\")"
   ]
  },
  {
   "cell_type": "code",
   "execution_count": 28,
   "id": "c75be001-25d9-4010-8ecd-22bbb5519c31",
   "metadata": {},
   "outputs": [
    {
     "name": "stdout",
     "output_type": "stream",
     "text": [
      "+----------------+------------------------+-----------+-------------------+--------------+----------------------+-------+---------------+\n",
      "|RuleDefinitionId|RuleDefinitionId_inputed|SubVectorId|SubVectorId_inputed|ExecutionOrder|ExecutionOrder_inputed|CobDate|CobDate_inputed|\n",
      "+----------------+------------------------+-----------+-------------------+--------------+----------------------+-------+---------------+\n",
      "|             707|                     707|         11|                 11|             0|                     0|     -1|             -1|\n",
      "|             484|                     484|          8|                  8|             1|                     1|   null|              0|\n",
      "|             487|                     487|          8|                  8|          null|                     1|   null|              0|\n",
      "|             486|                     486|          8|                  8|             2|                     2|   null|              0|\n",
      "|             485|                     485|          8|                  8|             3|                     3|   null|              0|\n",
      "+----------------+------------------------+-----------+-------------------+--------------+----------------------+-------+---------------+\n",
      "only showing top 5 rows\n",
      "\n"
     ]
    }
   ],
   "source": [
    "imputer.fit(sp_df).transform(sp_df)[\n",
    "    \"RuleDefinitionId\",\n",
    "    \"RuleDefinitionId_inputed\",\n",
    "    \"SubVectorId\",\n",
    "    \"SubVectorId_inputed\",\n",
    "    \"ExecutionOrder\",\n",
    "    \"ExecutionOrder_inputed\",\n",
    "    \"CobDate\",\n",
    "    \"CobDate_inputed\"\n",
    "].show(5)"
   ]
  },
  {
   "cell_type": "code",
   "execution_count": 29,
   "id": "74b29d46-ab5b-4ad7-894a-9f87d99fe912",
   "metadata": {},
   "outputs": [
    {
     "data": {
      "text/plain": [
       "[('RuleDefinitionId', 'int'),\n",
       " ('LastModifiedDateTime', 'string'),\n",
       " ('FieldName', 'string'),\n",
       " ('ShortName', 'string'),\n",
       " ('ClientName', 'string'),\n",
       " ('FundName', 'string'),\n",
       " ('SubVectorId', 'int'),\n",
       " ('Formula', 'string'),\n",
       " ('Severity', 'string'),\n",
       " ('ExecutionOrder', 'int'),\n",
       " ('Dimension', 'string'),\n",
       " ('IsSLA', 'int'),\n",
       " ('CutOffTime', 'timestamp'),\n",
       " ('ErrorMessage', 'string'),\n",
       " ('CronExpression', 'string'),\n",
       " ('CobDate', 'int'),\n",
       " ('EmailIds', 'string'),\n",
       " ('CalculationFormula', 'string')]"
      ]
     },
     "execution_count": 29,
     "metadata": {},
     "output_type": "execute_result"
    }
   ],
   "source": [
    "sp_df.dtypes"
   ]
  },
  {
   "cell_type": "code",
   "execution_count": null,
   "id": "4de37c97-088c-4353-b17d-e04e61e2ecb8",
   "metadata": {},
   "outputs": [],
   "source": []
  },
  {
   "cell_type": "markdown",
   "id": "15c6d1e7-9500-4762-a3e1-d175efd852fa",
   "metadata": {},
   "source": [
    "### Filter Operations"
   ]
  },
  {
   "cell_type": "code",
   "execution_count": 30,
   "id": "157fb12a-f56e-49d8-a3fc-66748a4b402e",
   "metadata": {},
   "outputs": [
    {
     "name": "stdout",
     "output_type": "stream",
     "text": [
      "+----------------+--------------------+-----------+\n",
      "|RuleDefinitionId|           FieldName|SubVectorId|\n",
      "+----------------+--------------------+-----------+\n",
      "|             707|      FileCompletion|         11|\n",
      "|             706|      FileCompletion|         11|\n",
      "|             705|      FileCompletion|         11|\n",
      "|             704|      FileCompletion|         11|\n",
      "|             701|      FileCompletion|         11|\n",
      "|             702|      FileCompletion|         11|\n",
      "|             703|      FileCompletion|         11|\n",
      "|             750|CustAcctName PnlC...|         11|\n",
      "|             751|Fund PnlCheck Exc...|         11|\n",
      "|             752|Fund PnlCheck Exc...|         11|\n",
      "|             753|Fund PnlCheck Exc...|         11|\n",
      "|             754|Fund PnlCheck Exc...|         11|\n",
      "|             755|Fund PnlCheck Exc...|         11|\n",
      "|             756|Fund PnlCheck Exc...|         11|\n",
      "|             757|Fund PnlCheck Exc...|         11|\n",
      "|             758| PnlCheck Exceptions|         11|\n",
      "|             749| PnlCheck Exceptions|         11|\n",
      "|             759| PnlCheck Exceptions|         11|\n",
      "|             760| PnlCheck Exceptions|         11|\n",
      "|             761| PnlCheck Exceptions|         11|\n",
      "+----------------+--------------------+-----------+\n",
      "only showing top 20 rows\n",
      "\n"
     ]
    }
   ],
   "source": [
    "sp_df.filter(\"RuleDefinitionId > 700\").select([\"RuleDefinitionId\", \"FieldName\", \"SubVectorId\"]).show()"
   ]
  },
  {
   "cell_type": "code",
   "execution_count": 31,
   "id": "b415650b-875f-4a3e-aca8-10a7a8de60b0",
   "metadata": {},
   "outputs": [
    {
     "name": "stdout",
     "output_type": "stream",
     "text": [
      "+----------------+--------------------+-----------+\n",
      "|RuleDefinitionId|           FieldName|SubVectorId|\n",
      "+----------------+--------------------+-----------+\n",
      "|             707|      FileCompletion|         11|\n",
      "|             706|      FileCompletion|         11|\n",
      "|             705|      FileCompletion|         11|\n",
      "|             704|      FileCompletion|         11|\n",
      "|             701|      FileCompletion|         11|\n",
      "|             702|      FileCompletion|         11|\n",
      "|             703|      FileCompletion|         11|\n",
      "|             750|CustAcctName PnlC...|         11|\n",
      "|             751|Fund PnlCheck Exc...|         11|\n",
      "|             752|Fund PnlCheck Exc...|         11|\n",
      "|             753|Fund PnlCheck Exc...|         11|\n",
      "|             754|Fund PnlCheck Exc...|         11|\n",
      "|             755|Fund PnlCheck Exc...|         11|\n",
      "|             756|Fund PnlCheck Exc...|         11|\n",
      "|             757|Fund PnlCheck Exc...|         11|\n",
      "|             758| PnlCheck Exceptions|         11|\n",
      "|             749| PnlCheck Exceptions|         11|\n",
      "|             759| PnlCheck Exceptions|         11|\n",
      "|             760| PnlCheck Exceptions|         11|\n",
      "|             761| PnlCheck Exceptions|         11|\n",
      "+----------------+--------------------+-----------+\n",
      "only showing top 20 rows\n",
      "\n"
     ]
    }
   ],
   "source": [
    "sp_df.filter(sp_df[\"RuleDefinitionId\"] > 700).select([\"RuleDefinitionId\", \"FieldName\", \"SubVectorId\"]).show()"
   ]
  },
  {
   "cell_type": "code",
   "execution_count": 32,
   "id": "01e5346f-50bd-4465-8785-15183bc1f58b",
   "metadata": {},
   "outputs": [
    {
     "name": "stdout",
     "output_type": "stream",
     "text": [
      "+----------------+--------------------+-----------+\n",
      "|RuleDefinitionId|           FieldName|SubVectorId|\n",
      "+----------------+--------------------+-----------+\n",
      "|             766|ReturnsCheck Exce...|         35|\n",
      "|             867|Fund Admin NAV Co...|         98|\n",
      "|             828|ClientSignOffComp...|         72|\n",
      "|             837|Fund Admin NAV Co...|         98|\n",
      "|             727|ReturnsCheck Exce...|         35|\n",
      "|             711|ClientSignOffComp...|         72|\n",
      "|             740|ReturnsCheck Exce...|         35|\n",
      "|             710|Account Validatio...|         98|\n",
      "|             773|Account Validatio...|         98|\n",
      "|             776|ClientSignOffComp...|         72|\n",
      "+----------------+--------------------+-----------+\n",
      "\n"
     ]
    }
   ],
   "source": [
    "sp_df.filter(\n",
    "    (sp_df[\"RuleDefinitionId\"] > 700) &\n",
    "    (sp_df[\"SubVectorId\"] > 11)\n",
    ").select([\"RuleDefinitionId\", \"FieldName\", \"SubVectorId\"]).show()"
   ]
  },
  {
   "cell_type": "code",
   "execution_count": 33,
   "id": "5ff5a994-93bc-4a49-8d98-dad0a12a397e",
   "metadata": {},
   "outputs": [
    {
     "name": "stdout",
     "output_type": "stream",
     "text": [
      "+----------------+--------------------+-----------+\n",
      "|RuleDefinitionId|           FieldName|SubVectorId|\n",
      "+----------------+--------------------+-----------+\n",
      "|             484|Valuation Exceptions|          8|\n",
      "|             487|ValuationComplete...|          8|\n",
      "|             486|ValuationSummary ...|          8|\n",
      "|             485|ValuationSummary ...|          8|\n",
      "|             477|CustAcctName PnlC...|         11|\n",
      "|             475|Fund PnlCheck Exc...|         11|\n",
      "|             473|Fund PnlCheck Exc...|         11|\n",
      "|             471|Fund PnlCheck Exc...|         11|\n",
      "|             472|Fund PnlCheck Exc...|         11|\n",
      "|             474|Fund PnlCheck Exc...|         11|\n",
      "|             470|Fund PnlCheck Exc...|         11|\n",
      "|             469|Fund PnlCheck Exc...|         11|\n",
      "|             467| PnlCheck Exceptions|         11|\n",
      "|             476| PnlCheck Exceptions|         11|\n",
      "|             468| PnlCheck Exceptions|         11|\n",
      "|             466| PnlCheck Exceptions|         11|\n",
      "|             483|ReturnsCheck Exce...|         35|\n",
      "|             700|      FileCompletion|         11|\n",
      "|             449| CompletenessProcess|          0|\n",
      "|             448| CompletenessProcess|          0|\n",
      "+----------------+--------------------+-----------+\n",
      "only showing top 20 rows\n",
      "\n"
     ]
    }
   ],
   "source": [
    "sp_df.filter(~(sp_df[\"RuleDefinitionId\"] > 700)).select([\"RuleDefinitionId\", \"FieldName\", \"SubVectorId\"]).show()"
   ]
  },
  {
   "cell_type": "code",
   "execution_count": null,
   "id": "ada57fc0-5a64-4aed-b0ad-47bc36f4b61a",
   "metadata": {},
   "outputs": [],
   "source": []
  },
  {
   "cell_type": "markdown",
   "id": "08e0f8c7-3cf1-4d8b-b957-a6f3d59c9970",
   "metadata": {},
   "source": [
    "### Grouping"
   ]
  },
  {
   "cell_type": "code",
   "execution_count": 34,
   "id": "701064c5-7207-4b50-85e3-efce05f6d377",
   "metadata": {},
   "outputs": [
    {
     "name": "stdout",
     "output_type": "stream",
     "text": [
      "+--------------+---------------------+-------------------+--------------------+\n",
      "|ExecutionOrder|avg(RuleDefinitionId)|avg(ExecutionOrder)|          avg(IsSLA)|\n",
      "+--------------+---------------------+-------------------+--------------------+\n",
      "|          null|   495.35849056603774|               null|                 1.0|\n",
      "|             1|    514.0555555555555|                1.0|0.018518518518518517|\n",
      "|             3|    634.0666666666667|                3.0|                 0.0|\n",
      "|             5|    619.9333333333333|                5.0|                 0.0|\n",
      "|             4|    641.4444444444445|                4.0|                 0.0|\n",
      "|             2|    600.4868421052631|                2.0|                 0.0|\n",
      "|             0|    731.5486725663717|                0.0| 0.19469026548672566|\n",
      "+--------------+---------------------+-------------------+--------------------+\n",
      "\n"
     ]
    }
   ],
   "source": [
    "sp_df[[\"RuleDefinitionId\", \"ExecutionOrder\", \"Dimension\", \"IsSLA\"]].groupBy(\"ExecutionOrder\").mean().show()"
   ]
  },
  {
   "cell_type": "code",
   "execution_count": 35,
   "id": "0fc1295a-e76d-4025-bbc2-e7c72e695ead",
   "metadata": {},
   "outputs": [
    {
     "name": "stdout",
     "output_type": "stream",
     "text": [
      "+--------------+---------------------+-------------------+----------+\n",
      "|ExecutionOrder|sum(RuleDefinitionId)|sum(ExecutionOrder)|sum(IsSLA)|\n",
      "+--------------+---------------------+-------------------+----------+\n",
      "|          null|                26254|               null|        53|\n",
      "|             1|                27759|                 54|         1|\n",
      "|             3|                 9511|                 45|         0|\n",
      "|             5|                 9299|                 75|         0|\n",
      "|             4|                 5773|                 36|         0|\n",
      "|             2|                45637|                152|         0|\n",
      "|             0|                82665|                  0|        22|\n",
      "+--------------+---------------------+-------------------+----------+\n",
      "\n"
     ]
    }
   ],
   "source": [
    "sp_df[[\"RuleDefinitionId\", \"ExecutionOrder\", \"Dimension\", \"IsSLA\"]].groupBy(\"ExecutionOrder\").sum().show()"
   ]
  },
  {
   "cell_type": "code",
   "execution_count": 36,
   "id": "e58c07ae-854d-4dbc-a4e0-24368991a7fe",
   "metadata": {},
   "outputs": [
    {
     "name": "stdout",
     "output_type": "stream",
     "text": [
      "+--------------+-----+\n",
      "|ExecutionOrder|count|\n",
      "+--------------+-----+\n",
      "|          null|   53|\n",
      "|             1|   54|\n",
      "|             3|   15|\n",
      "|             5|   15|\n",
      "|             4|    9|\n",
      "|             2|   76|\n",
      "|             0|  113|\n",
      "+--------------+-----+\n",
      "\n"
     ]
    }
   ],
   "source": [
    "sp_df[[\"RuleDefinitionId\", \"ExecutionOrder\", \"Dimension\", \"IsSLA\"]].groupBy(\"ExecutionOrder\").count().show()"
   ]
  },
  {
   "cell_type": "code",
   "execution_count": 37,
   "id": "79571a1a-fcd8-4eb8-8686-50d282c5b0d7",
   "metadata": {},
   "outputs": [
    {
     "name": "stdout",
     "output_type": "stream",
     "text": [
      "+--------------+----------+---------------------+\n",
      "|ExecutionOrder|sum(IsSLA)|max(RuleDefinitionId)|\n",
      "+--------------+----------+---------------------+\n",
      "|          null|        53|                  765|\n",
      "|             1|         1|                  934|\n",
      "|             3|         0|                  887|\n",
      "|             5|         0|                  898|\n",
      "|             4|         0|                  888|\n",
      "|             2|         0|                  897|\n",
      "|             0|        22|                  928|\n",
      "+--------------+----------+---------------------+\n",
      "\n"
     ]
    }
   ],
   "source": [
    "sp_df[\n",
    "    [\"RuleDefinitionId\", \"ExecutionOrder\", \"Dimension\", \"IsSLA\"]\n",
    "].groupBy(\"ExecutionOrder\").agg({\"RuleDefinitionId\": \"max\", \"IsSLA\": \"sum\"}).show()"
   ]
  },
  {
   "cell_type": "code",
   "execution_count": null,
   "id": "7023c3dd-0b43-4616-b917-4b4678b1742d",
   "metadata": {},
   "outputs": [],
   "source": []
  },
  {
   "cell_type": "markdown",
   "id": "aa81900b-2893-4a69-af7b-2dda69a81d93",
   "metadata": {
    "tags": []
   },
   "source": [
    "## MLib"
   ]
  },
  {
   "cell_type": "code",
   "execution_count": 38,
   "id": "13304b48-87f9-4c32-8e8d-659b2b5d16ca",
   "metadata": {},
   "outputs": [],
   "source": [
    "from pyspark.ml.feature import VectorAssembler"
   ]
  },
  {
   "cell_type": "code",
   "execution_count": 39,
   "id": "2edbb09a-439d-4e80-8eba-b058e85c353b",
   "metadata": {},
   "outputs": [
    {
     "data": {
      "text/plain": [
       "[('RuleDefinitionId', 'int'),\n",
       " ('LastModifiedDateTime', 'string'),\n",
       " ('FieldName', 'string'),\n",
       " ('ShortName', 'string'),\n",
       " ('ClientName', 'string'),\n",
       " ('FundName', 'string'),\n",
       " ('SubVectorId', 'int'),\n",
       " ('Formula', 'string'),\n",
       " ('Severity', 'string'),\n",
       " ('ExecutionOrder', 'int'),\n",
       " ('Dimension', 'string'),\n",
       " ('IsSLA', 'int'),\n",
       " ('CutOffTime', 'timestamp'),\n",
       " ('ErrorMessage', 'string'),\n",
       " ('CronExpression', 'string'),\n",
       " ('CobDate', 'int'),\n",
       " ('EmailIds', 'string'),\n",
       " ('CalculationFormula', 'string')]"
      ]
     },
     "execution_count": 39,
     "metadata": {},
     "output_type": "execute_result"
    }
   ],
   "source": [
    "sp_df.dtypes"
   ]
  },
  {
   "cell_type": "code",
   "execution_count": null,
   "id": "09933527-d092-4286-bfb2-1c580d85f39d",
   "metadata": {},
   "outputs": [],
   "source": []
  },
  {
   "cell_type": "code",
   "execution_count": 40,
   "id": "bd09c579-2a2c-4168-a86e-4c74e5d6d99f",
   "metadata": {},
   "outputs": [],
   "source": [
    "input_cols = [\"RuleDefinitionId\", \"SubVectorId\", \"ExecutionOrder\"]\n",
    "\n",
    "featureAssembler = VectorAssembler(\n",
    "    inputCols=input_cols,\n",
    "    outputCol=\"Features\"\n",
    ")"
   ]
  },
  {
   "cell_type": "code",
   "execution_count": 41,
   "id": "372481cd-b2c0-4068-a85d-15a489157c4b",
   "metadata": {},
   "outputs": [],
   "source": [
    "data = featureAssembler.transform(\n",
    "    sp_df.dropna(subset=[\"ExecutionOrder\"])  # Because ExecutionOrder has null values\n",
    ").select([\"Features\", \"IsSLA\"])"
   ]
  },
  {
   "cell_type": "code",
   "execution_count": 42,
   "id": "c612839a-7007-443d-9431-3778368f09d2",
   "metadata": {},
   "outputs": [
    {
     "name": "stdout",
     "output_type": "stream",
     "text": [
      "+----------------+-----+\n",
      "|        Features|IsSLA|\n",
      "+----------------+-----+\n",
      "|[707.0,11.0,0.0]|    1|\n",
      "| [484.0,8.0,1.0]|    0|\n",
      "| [486.0,8.0,2.0]|    0|\n",
      "| [485.0,8.0,3.0]|    0|\n",
      "|[477.0,11.0,0.0]|    0|\n",
      "|[475.0,11.0,2.0]|    0|\n",
      "|[473.0,11.0,2.0]|    0|\n",
      "|[471.0,11.0,2.0]|    0|\n",
      "|[472.0,11.0,2.0]|    0|\n",
      "|[474.0,11.0,2.0]|    0|\n",
      "+----------------+-----+\n",
      "only showing top 10 rows\n",
      "\n"
     ]
    }
   ],
   "source": [
    "data.show(10)"
   ]
  },
  {
   "cell_type": "code",
   "execution_count": 43,
   "id": "ea96e56f-6907-4f23-9bd8-376e02fff776",
   "metadata": {},
   "outputs": [],
   "source": [
    "# from pyspark.ml.regression import LinearRegression\n",
    "from pyspark.ml.classification import LogisticRegression"
   ]
  },
  {
   "cell_type": "code",
   "execution_count": 44,
   "id": "0e83f319-072f-4180-bb99-25dfc4d355d7",
   "metadata": {},
   "outputs": [],
   "source": [
    "train_data, test_data = data.randomSplit([0.75, 0.25])\n",
    "classifier = LogisticRegression(featuresCol=\"Features\", labelCol=\"IsSLA\")\n",
    "classifier = classifier.fit(train_data)"
   ]
  },
  {
   "cell_type": "code",
   "execution_count": 45,
   "id": "361438d6-3933-4c83-8e41-b695318c7120",
   "metadata": {},
   "outputs": [
    {
     "data": {
      "text/plain": [
       "DenseVector([-0.0053, -0.0005, -22.1322])"
      ]
     },
     "execution_count": 45,
     "metadata": {},
     "output_type": "execute_result"
    }
   ],
   "source": [
    "classifier.coefficients"
   ]
  },
  {
   "cell_type": "code",
   "execution_count": 46,
   "id": "3fc14c9f-e0ac-4bec-b14e-055d87126f41",
   "metadata": {},
   "outputs": [
    {
     "data": {
      "text/plain": [
       "2.381690379244546"
      ]
     },
     "execution_count": 46,
     "metadata": {},
     "output_type": "execute_result"
    }
   ],
   "source": [
    "classifier.intercept"
   ]
  },
  {
   "cell_type": "code",
   "execution_count": 47,
   "id": "7d33c13d-b7f5-45b7-adeb-a2632c3b06c8",
   "metadata": {},
   "outputs": [],
   "source": [
    "preds = classifier.evaluate(test_data)"
   ]
  },
  {
   "cell_type": "code",
   "execution_count": 48,
   "id": "6c58fee7-4b72-4504-a2bd-3e23f55bbe04",
   "metadata": {},
   "outputs": [
    {
     "name": "stdout",
     "output_type": "stream",
     "text": [
      "+----------------+-----+--------------------+--------------------+----------+\n",
      "|        Features|IsSLA|       rawPrediction|         probability|prediction|\n",
      "+----------------+-----+--------------------+--------------------+----------+\n",
      "| [102.0,3.0,1.0]|    0|[20.2909713862644...|[0.99999999845921...|       0.0|\n",
      "| [108.0,3.0,1.0]|    0|[20.3226803196769...|[0.99999999850730...|       0.0|\n",
      "| [110.0,0.0,1.0]|    0|[20.3318780189910...|[0.99999999852096...|       0.0|\n",
      "| [111.0,0.0,1.0]|    0|[20.3371628412264...|[0.99999999852876...|       0.0|\n",
      "| [204.0,2.0,1.0]|    0|[20.8295659392242...|[0.99999999910084...|       0.0|\n",
      "| [206.0,2.0,1.0]|    0|[20.8401355836951...|[0.99999999911029...|       0.0|\n",
      "| [207.0,2.0,1.0]|    1|[20.8454204059305...|[0.99999999911498...|       0.0|\n",
      "|[301.0,11.0,1.0]|    0|[21.3463095315294...|[0.99999999946369...|       0.0|\n",
      "|[306.0,11.0,2.0]|    0|[43.5049715950466...|           [1.0,0.0]|       0.0|\n",
      "|[341.0,11.0,2.0]|    0|[43.6899403732861...|           [1.0,0.0]|       0.0|\n",
      "|[344.0,11.0,2.0]|    0|[43.7057948399923...|           [1.0,0.0]|       0.0|\n",
      "|[384.0,98.0,0.0]|    0|[-0.3075017657271...|[0.42372464634777...|       1.0|\n",
      "|[408.0,11.0,2.0]|    0|[44.0440234630587...|           [1.0,0.0]|       0.0|\n",
      "|[437.0,11.0,1.0]|    0|[22.0650453555455...|[0.99999999973862...|       0.0|\n",
      "|[438.0,11.0,2.0]|    0|[44.2025681301211...|           [1.0,0.0]|       0.0|\n",
      "|[441.0,11.0,0.0]|    1|[-0.0460533078529...|[0.48848870749673...|       1.0|\n",
      "|[442.0,11.0,0.0]|    1|[-0.0407684856175...|[0.48980929002879...|       1.0|\n",
      "|[444.0,11.0,0.0]|    1|[-0.0301988411467...|[0.49245086342010...|       1.0|\n",
      "|[447.0,75.0,1.0]|    0|[22.1471617412426...|[0.99999999975922...|       0.0|\n",
      "| [449.0,0.0,1.0]|    0|[22.1234327567959...|[0.99999999975344...|       0.0|\n",
      "+----------------+-----+--------------------+--------------------+----------+\n",
      "only showing top 20 rows\n",
      "\n"
     ]
    }
   ],
   "source": [
    "preds.predictions.show()"
   ]
  },
  {
   "cell_type": "code",
   "execution_count": 49,
   "id": "d976fbb7-160e-4617-926e-99ccf621e99d",
   "metadata": {},
   "outputs": [
    {
     "data": {
      "text/plain": [
       "0.9375"
      ]
     },
     "execution_count": 49,
     "metadata": {},
     "output_type": "execute_result"
    }
   ],
   "source": [
    "preds.accuracy"
   ]
  },
  {
   "cell_type": "code",
   "execution_count": null,
   "id": "56590ef4-46d3-4d29-83f4-b892d7ed99f5",
   "metadata": {},
   "outputs": [],
   "source": []
  },
  {
   "cell_type": "markdown",
   "id": "b5985145-1633-460d-a1c4-b0ed2c126ed4",
   "metadata": {},
   "source": [
    "### Handling Categorical Features"
   ]
  },
  {
   "cell_type": "code",
   "execution_count": 50,
   "id": "14ee240c-50d7-4d33-865b-cc12cdfaebbd",
   "metadata": {},
   "outputs": [],
   "source": [
    "from pyspark.ml.feature import StringIndexer "
   ]
  },
  {
   "cell_type": "code",
   "execution_count": 51,
   "id": "602eec1c-4d59-4518-896f-9bd1743edbe3",
   "metadata": {},
   "outputs": [],
   "source": [
    "indexer = StringIndexer(\n",
    "    inputCols=[\"ClientName\"],\n",
    "    outputCols=[\"ClientName_indexed\"]\n",
    ")"
   ]
  },
  {
   "cell_type": "code",
   "execution_count": 52,
   "id": "88d9cf6b-d806-4729-bf93-69dc36f3a707",
   "metadata": {},
   "outputs": [],
   "source": [
    "data = indexer.fit(sp_df).transform(sp_df)"
   ]
  },
  {
   "cell_type": "code",
   "execution_count": 53,
   "id": "0a6cb740-ef93-44d8-bc7e-28f11aea2873",
   "metadata": {},
   "outputs": [],
   "source": [
    "input_cols = [\"RuleDefinitionId\", \"SubVectorId\", \"ExecutionOrder\", \"ClientName_indexed\"]"
   ]
  },
  {
   "cell_type": "code",
   "execution_count": 54,
   "id": "4f013637-a562-45dd-a221-1255a22ec717",
   "metadata": {},
   "outputs": [
    {
     "name": "stdout",
     "output_type": "stream",
     "text": [
      "+----------------+-----------+--------------+------------------+\n",
      "|RuleDefinitionId|SubVectorId|ExecutionOrder|ClientName_indexed|\n",
      "+----------------+-----------+--------------+------------------+\n",
      "|             707|         11|             0|               2.0|\n",
      "|             484|          8|             1|               2.0|\n",
      "|             487|          8|          null|               2.0|\n",
      "|             486|          8|             2|               2.0|\n",
      "|             485|          8|             3|               2.0|\n",
      "|             477|         11|             0|               2.0|\n",
      "|             475|         11|             2|               2.0|\n",
      "|             473|         11|             2|               2.0|\n",
      "|             471|         11|             2|               2.0|\n",
      "|             472|         11|             2|               2.0|\n",
      "+----------------+-----------+--------------+------------------+\n",
      "only showing top 10 rows\n",
      "\n"
     ]
    }
   ],
   "source": [
    "data[input_cols].show(10)"
   ]
  },
  {
   "cell_type": "code",
   "execution_count": 55,
   "id": "dfc9f2bf-0b73-4164-84cf-d524fb9050e1",
   "metadata": {},
   "outputs": [],
   "source": [
    "featureAssembler = VectorAssembler(\n",
    "    inputCols=input_cols,\n",
    "    outputCol=\"Features\"\n",
    ")"
   ]
  },
  {
   "cell_type": "code",
   "execution_count": 56,
   "id": "d8fe71df-1d62-4ed9-a556-441307e7f369",
   "metadata": {},
   "outputs": [],
   "source": [
    "data = featureAssembler.transform(\n",
    "    data.dropna(subset=[\"ExecutionOrder\"])  # Because ExecutionOrder has null values\n",
    ").select([\"Features\", \"IsSLA\"])"
   ]
  },
  {
   "cell_type": "code",
   "execution_count": 57,
   "id": "5c5c0c89-a47b-4192-bcfa-18722a01df12",
   "metadata": {},
   "outputs": [
    {
     "name": "stdout",
     "output_type": "stream",
     "text": [
      "+--------------------+-----+\n",
      "|            Features|IsSLA|\n",
      "+--------------------+-----+\n",
      "|[707.0,11.0,0.0,2.0]|    1|\n",
      "| [484.0,8.0,1.0,2.0]|    0|\n",
      "| [486.0,8.0,2.0,2.0]|    0|\n",
      "| [485.0,8.0,3.0,2.0]|    0|\n",
      "|[477.0,11.0,0.0,2.0]|    0|\n",
      "|[475.0,11.0,2.0,2.0]|    0|\n",
      "|[473.0,11.0,2.0,2.0]|    0|\n",
      "|[471.0,11.0,2.0,2.0]|    0|\n",
      "|[472.0,11.0,2.0,2.0]|    0|\n",
      "|[474.0,11.0,2.0,2.0]|    0|\n",
      "+--------------------+-----+\n",
      "only showing top 10 rows\n",
      "\n"
     ]
    }
   ],
   "source": [
    "data.show(10)"
   ]
  },
  {
   "cell_type": "code",
   "execution_count": 58,
   "id": "a473df84-9602-478c-845d-28534654d67d",
   "metadata": {},
   "outputs": [],
   "source": [
    "# from pyspark.ml.regression import LinearRegression\n",
    "from pyspark.ml.classification import LogisticRegression"
   ]
  },
  {
   "cell_type": "code",
   "execution_count": 59,
   "id": "25628045-73f4-4e2d-a8ca-e2d269b6f820",
   "metadata": {},
   "outputs": [],
   "source": [
    "train_data, test_data = data.randomSplit([0.75, 0.25])\n",
    "classifier = LogisticRegression(featuresCol=\"Features\", labelCol=\"IsSLA\")\n",
    "classifier = classifier.fit(train_data)"
   ]
  },
  {
   "cell_type": "code",
   "execution_count": 60,
   "id": "6c5a6bd1-1815-4406-9be3-74eae87e4323",
   "metadata": {},
   "outputs": [
    {
     "data": {
      "text/plain": [
       "DenseVector([-0.0034, -0.0095, -4.4352, -0.3138])"
      ]
     },
     "execution_count": 60,
     "metadata": {},
     "output_type": "execute_result"
    }
   ],
   "source": [
    "classifier.coefficients"
   ]
  },
  {
   "cell_type": "code",
   "execution_count": 61,
   "id": "1c2da120-dbee-404f-a923-c8fb25e92a32",
   "metadata": {},
   "outputs": [
    {
     "data": {
      "text/plain": [
       "2.803305252625486"
      ]
     },
     "execution_count": 61,
     "metadata": {},
     "output_type": "execute_result"
    }
   ],
   "source": [
    "classifier.intercept"
   ]
  },
  {
   "cell_type": "code",
   "execution_count": 62,
   "id": "e7c20d63-8942-40b5-9b4e-f3ddbc0b314f",
   "metadata": {},
   "outputs": [],
   "source": [
    "preds = classifier.evaluate(test_data)"
   ]
  },
  {
   "cell_type": "code",
   "execution_count": 63,
   "id": "24e7f6ce-e4bb-4d70-8cfa-36d173ef45fb",
   "metadata": {},
   "outputs": [
    {
     "name": "stdout",
     "output_type": "stream",
     "text": [
      "+--------------------+-----+--------------------+--------------------+----------+\n",
      "|            Features|IsSLA|       rawPrediction|         probability|prediction|\n",
      "+--------------------+-----+--------------------+--------------------+----------+\n",
      "| [44.0,11.0,4.0,0.0]|    0|[15.1918330697317...|[0.99999974749463...|       0.0|\n",
      "|[108.0,3.0,1.0,13.0]|    0|[6.10632072022987...|[0.99777622032872...|       0.0|\n",
      "| [201.0,2.0,1.0,1.0]|    0|[2.64725230045529...|[0.93384143543764...|       0.0|\n",
      "| [204.0,2.0,1.0,1.0]|    0|[2.65743892919028...|[0.93446800727193...|       0.0|\n",
      "|[299.0,11.0,2.0,0.0]|    0|[7.18730813867343...|[0.99924444952975...|       0.0|\n",
      "|[306.0,11.0,2.0,0.0]|    0|[7.21107693905507...|[0.99926218321881...|       0.0|\n",
      "|[307.0,11.0,2.0,2...|    0|[13.4899929863565...|[0.99999861525475...|       0.0|\n",
      "|[342.0,11.0,2.0,0.0]|    0|[7.33331648387495...|[0.99934702366742...|       0.0|\n",
      "|[343.0,11.0,2.0,2...|    0|[14.5535606068348...|[0.99999952195505...|       0.0|\n",
      "|[345.0,11.0,2.0,0.0]|    0|[7.34350311260994...|[0.99935363725327...|       0.0|\n",
      "| [350.0,8.0,1.0,0.0]|    0|[2.89666181662591...|[0.94768117168664...|       0.0|\n",
      "|[374.0,11.0,5.0,0.0]|    0|[20.7475564173468...|[0.99999999902399...|       0.0|\n",
      "|[384.0,98.0,0.0,3.0]|    0|[0.37698887779879...|[0.59314665208064...|       0.0|\n",
      "|[420.0,11.0,2.0,3.0]|    0|[8.53949690664316...|[0.99980444961269...|       0.0|\n",
      "|[422.0,98.0,0.0,3.0]|    0|[0.50601950844199...|[0.62387289176398...|       0.0|\n",
      "|[432.0,11.0,1.0,3.0]|    0|[4.14504923481691...|[0.98440441949400...|       0.0|\n",
      "|[433.0,11.0,5.0,3.0]|    0|[21.8892215247934...|[0.99999999968837...|       0.0|\n",
      "|[443.0,11.0,0.0,0.0]|    1|[-1.1941220555794...|[0.23252252015704...|       1.0|\n",
      "|[445.0,11.0,0.0,3.0]|    1|[-0.2460028940976...|[0.43880756636523...|       1.0|\n",
      "|[452.0,108.0,1.0,...|    0|[4.51094401137291...|[0.98913134329206...|       0.0|\n",
      "+--------------------+-----+--------------------+--------------------+----------+\n",
      "only showing top 20 rows\n",
      "\n"
     ]
    }
   ],
   "source": [
    "preds.predictions.show()"
   ]
  },
  {
   "cell_type": "code",
   "execution_count": 64,
   "id": "b564d676-d72f-42a8-95f6-f34d1bd7e435",
   "metadata": {},
   "outputs": [
    {
     "data": {
      "text/plain": [
       "0.9333333333333333"
      ]
     },
     "execution_count": 64,
     "metadata": {},
     "output_type": "execute_result"
    }
   ],
   "source": [
    "preds.accuracy"
   ]
  },
  {
   "cell_type": "code",
   "execution_count": null,
   "id": "1b86905d-930c-4358-b502-be7b064246ed",
   "metadata": {},
   "outputs": [],
   "source": []
  }
 ],
 "metadata": {
  "kernelspec": {
   "display_name": "Python [conda env:env_anomaly]",
   "language": "python",
   "name": "conda-env-env_anomaly-py"
  },
  "language_info": {
   "codemirror_mode": {
    "name": "ipython",
    "version": 3
   },
   "file_extension": ".py",
   "mimetype": "text/x-python",
   "name": "python",
   "nbconvert_exporter": "python",
   "pygments_lexer": "ipython3",
   "version": "3.10.4"
  }
 },
 "nbformat": 4,
 "nbformat_minor": 5
}
