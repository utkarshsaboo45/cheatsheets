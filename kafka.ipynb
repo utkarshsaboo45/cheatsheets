{
 "cells": [
  {
   "cell_type": "markdown",
   "id": "fa9d211e-37b7-4f3c-8838-1e3ec53c7569",
   "metadata": {},
   "source": [
    "# Kafka"
   ]
  },
  {
   "cell_type": "markdown",
   "id": "6627474d-01a3-49fd-9621-15e2ea00ac87",
   "metadata": {},
   "source": [
    "### Pub-Sub Messaging pattern"
   ]
  },
  {
   "cell_type": "markdown",
   "id": "77314e24-a79e-42ab-8572-5ca9be1c907e",
   "metadata": {},
   "source": [
    "- Senders (Publishers) do not send messages directly to Receivers (Subscribers).\n",
    "- Publishers publish data to a broker without knowing who the subscribers are.\n",
    "- Subscribers request brokers for a specific kind of data without worrying about who the publishers are.\n",
    "- Pub-Sub pattern reduces the potential connections between the Publishers and Subscribers."
   ]
  },
  {
   "cell_type": "markdown",
   "id": "a03406af-cafb-4231-8ca4-6362a71ffd45",
   "metadata": {},
   "source": []
  },
  {
   "cell_type": "markdown",
   "id": "f4e584be-f758-48fc-890b-022864efcd51",
   "metadata": {},
   "source": [
    "### What is Kafka?"
   ]
  },
  {
   "cell_type": "markdown",
   "id": "6622c308-52bd-4542-b3c0-a52bdf0baf34",
   "metadata": {},
   "source": [
    "__Kafka__ - A publish-subscribe messaging system (also described as a distributed event log). \n",
    "\n",
    "- All the new records are immutable and appended to the end of the log.\n",
    "- Messages are persistant on the disk for a specific duration (called Retention Policy).\n",
    "- Like a Hybrid between a messaging system and a Database.\n",
    "- _Producers_ produce messaged on different _topics_ and _Consumers_ consume those messages.\n",
    "- Aims to provide a reliable and high throughput platform for handling real-time data streams and building data pipelines.\n",
    "- Can be used to build modern and scalable ETL, CDC (Change Data Capture) or Big Data Ingest."
   ]
  },
  {
   "cell_type": "markdown",
   "id": "19faec5d-08d4-439d-ac4e-47f78c30b989",
   "metadata": {},
   "source": []
  },
  {
   "cell_type": "markdown",
   "id": "79c41a91-d6f5-4556-866c-b701e679ed3b",
   "metadata": {},
   "source": [
    "### Kafka Architecture"
   ]
  },
  {
   "cell_type": "markdown",
   "id": "8d6e08cd-74a7-4a2d-a5c2-0f3a544a3ca9",
   "metadata": {},
   "source": [
    "- Components:\n",
    "    - Cluster\n",
    "    - Producers (applications producing data)\n",
    "    - Consumers (applications consuming data)\n",
    "- _Broker_: A single Kafka cluster within a cluster\n",
    "    - Responsible for\n",
    "        - receiving messages from producers\n",
    "        - Assigning offsets\n",
    "        - Commiting messages to the disk\n",
    "        - Responding to consumer's fetch requests and serving messages\n",
    "    - A Kafka cluster generally consists of at least three brokers to provide enough redundancy.\n",
    "- _Topics_ provide a way to categorize data\n",
    "    - Further broken down into a number of _Partitions_\n",
    "    - Each partition - a separate commit log\n",
    "    - Order of messages guaranteed across the same partition\n",
    "    - Makes scaling easy - high throughput (can be split across multiple servers)"
   ]
  },
  {
   "cell_type": "markdown",
   "id": "498ec26d-64ac-4118-8bf0-6467c0cfaa26",
   "metadata": {},
   "source": []
  },
  {
   "cell_type": "markdown",
   "id": "8dae7846-c84d-4e48-b389-3b8f00c2912f",
   "metadata": {},
   "source": [
    "### Messages"
   ]
  },
  {
   "cell_type": "markdown",
   "id": "ff8210b2-60e3-4e37-914c-2fed001fac6f",
   "metadata": {},
   "source": [
    "- Single unit of data\n",
    "- Can have an Optional key to write data in a more controlled way to multiple partitions within the same topic\n",
    "- Sending single messages is slow - can use batched (throughput-latency tradeoff). Batches can be compressed"
   ]
  },
  {
   "cell_type": "markdown",
   "id": "127e7cec-2c04-425c-ba6d-4a57b16b1527",
   "metadata": {},
   "source": []
  },
  {
   "cell_type": "markdown",
   "id": "7499745d-142c-4d24-9fd9-a2ea51390bd0",
   "metadata": {},
   "source": [
    "### Consumers and Consumer Groups"
   ]
  },
  {
   "cell_type": "markdown",
   "id": "d7c00cc6-029b-45f9-bb9e-6c1bf3617f3e",
   "metadata": {},
   "source": [
    "- Consumer keeps a track of its position in the stream of data by remembering offset\n",
    "    - it can stop/restart without losing its position\n",
    "- Consumers always belong to a specific consumer group\n",
    "- Consumers within a group work together to consume a topic\n",
    "    - Each partition is consumed by exactly one consumer\n",
    "    - This way, consumers can scale horizontally to consume topic with a large number of messages\n",
    "    - If a consumer failes, the remaining members of the group will rebalance the partitions"
   ]
  },
  {
   "cell_type": "markdown",
   "id": "21bb913d-9908-4623-9ec4-d78a15fa3edc",
   "metadata": {},
   "source": []
  },
  {
   "cell_type": "markdown",
   "id": "55cde376-e0e0-4ecb-9d49-fbd610f40c47",
   "metadata": {},
   "source": [
    "### Brokers"
   ]
  },
  {
   "cell_type": "markdown",
   "id": "36abd448-733b-46e1-9800-05b347558f4a",
   "metadata": {},
   "source": [
    "- Designed to operate as a part of cluster\n",
    "- One broker within the cluster acts as the controller\n",
    "    - Responsible for administrative operations like assigning partitions to brokers, monitiring for broker failures, etc.\n",
    "- Partition owned by a single broker within a cluster - called the leader of the partition\n",
    "    - A partition may be assigned to multiple clusters - replication\n",
    "    - Provides redundancy of messages so that another broker can take over leadership in case of failure"
   ]
  },
  {
   "cell_type": "markdown",
   "id": "cbe60ffb-ead8-451f-b99e-3b02f3e296c9",
   "metadata": {},
   "source": []
  },
  {
   "cell_type": "markdown",
   "id": "40e58703-8738-4087-8266-46afa9055114",
   "metadata": {},
   "source": [
    "### Retention"
   ]
  },
  {
   "cell_type": "markdown",
   "id": "ca2869a9-0ecd-42da-a5dc-f0fe945a6cd4",
   "metadata": {},
   "source": [
    "- Provides durable storage of messages (until they expire)\n",
    "- Retain messages for some duration of time or until a storage threshold is achieved\n",
    "- Oldest messages expires and are deleted\n",
    "- Individual topics can configure their own retention policy"
   ]
  },
  {
   "cell_type": "markdown",
   "id": "9946f27d-6159-4271-aca7-dc01624710aa",
   "metadata": {},
   "source": []
  },
  {
   "cell_type": "markdown",
   "id": "4473c973-b452-45b9-9a3c-f1252d7f0b28",
   "metadata": {},
   "source": [
    "### Reliability"
   ]
  },
  {
   "cell_type": "markdown",
   "id": "f5c5089d-4622-4fc9-b0d8-0884bacc543c",
   "metadata": {},
   "source": [
    "- In terms of guarantees\n",
    "    - Order of mess\"ages within the same topic and partition\n",
    "    - Messages are considered \"committed\"\n",
    "    - Committed messages won't be lost as long as at least one replica remains alive and the retention policy holds\n",
    "    - Consumers can read only committed messages\n",
    "    - At-least-once message delivery semantics - doesn't prevent duplicate messages being produced\n",
    "        - No exactly-once semantics (can be achieved using external systems)\n",
    "- Trade-offs\n",
    "    - Reliability and consistency vs availability, high throughput and low latency"
   ]
  },
  {
   "cell_type": "markdown",
   "id": "4b3e9a80-b023-44dd-ad31-8eca775e4243",
   "metadata": {},
   "source": []
  },
  {
   "cell_type": "markdown",
   "id": "bbdca67f-adb0-45a1-bbea-ce792eb3ec27",
   "metadata": {},
   "source": [
    "### Pros and Cons of Kafka"
   ]
  },
  {
   "cell_type": "markdown",
   "id": "cf1ad32c-05a4-43aa-80a4-c202c1d76afa",
   "metadata": {},
   "source": [
    "| Pros | Cons |\n",
    "| --- | --- |\n",
    "| Tackles integration complexity | Requires a fair amount of time to understand |\n",
    "| Great for ETL/CDC | Not the best solution for real low-latency systems |\n",
    "| Big data retention |  |\n",
    "| High throughput |  |\n",
    "| Disk-based retention |  |\n",
    "| Multiple producers/consumers |  |\n",
    "| Highly scalable |  |\n",
    "| Fault tolerant |  |\n",
    "| Fairly low latency |  |\n",
    "| Highly configurable |  |\n",
    "| Provides backpressure |  |"
   ]
  },
  {
   "cell_type": "markdown",
   "id": "e98b1eaa-fe4a-4a20-bc8b-966fcc6a4c08",
   "metadata": {},
   "source": []
  },
  {
   "cell_type": "markdown",
   "id": "3e819cc3-c3e2-47c7-9192-1804f581cfc2",
   "metadata": {},
   "source": [
    "### Kafka vs JMS (Java Messaging Service)"
   ]
  },
  {
   "cell_type": "markdown",
   "id": "3850e9c3-9032-4b4d-945f-c75880be4588",
   "metadata": {},
   "source": [
    "| Kafka | JMS |\n",
    "| --- | --- |\n",
    "| Consumers pull messages from the brokers | Messages pushed to the consumers directly (Hard to achieve back pressure) |\n",
    "| Retention |  |\n",
    "| Easy to replay messages |  |\n",
    "| Guarantees ordering of messages within partitions |  |\n",
    "| Easy to build scalable and fault tolerant systems |  |"
   ]
  },
  {
   "cell_type": "markdown",
   "id": "75b8a9ff-9f65-4a0f-b95b-4defbb875074",
   "metadata": {},
   "source": []
  },
  {
   "cell_type": "markdown",
   "id": "166a7ed6-4f96-4102-9ac7-26d4a102f2dd",
   "metadata": {},
   "source": []
  },
  {
   "cell_type": "markdown",
   "id": "fa0820ee-36f7-4698-a51a-f877876f036e",
   "metadata": {},
   "source": []
  },
  {
   "cell_type": "markdown",
   "id": "f784b239-7340-4161-9bb8-2c0acfc89a98",
   "metadata": {},
   "source": []
  },
  {
   "cell_type": "markdown",
   "id": "114d430b-d7d2-4d7e-8d87-e89293434bdc",
   "metadata": {},
   "source": []
  }
 ],
 "metadata": {
  "kernelspec": {
   "display_name": "Python 3 (ipykernel)",
   "language": "python",
   "name": "python3"
  },
  "language_info": {
   "codemirror_mode": {
    "name": "ipython",
    "version": 3
   },
   "file_extension": ".py",
   "mimetype": "text/x-python",
   "name": "python",
   "nbconvert_exporter": "python",
   "pygments_lexer": "ipython3",
   "version": "3.9.12"
  }
 },
 "nbformat": 4,
 "nbformat_minor": 5
}
